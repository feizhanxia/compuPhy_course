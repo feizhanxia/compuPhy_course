{
 "cells": [
  {
   "cell_type": "markdown",
   "id": "e6fd3656",
   "metadata": {},
   "source": [
    "# Python Visualization"
   ]
  },
  {
   "cell_type": "markdown",
   "id": "d2c0c2f6",
   "metadata": {},
   "source": [
    "## Matplotlib"
   ]
  },
  {
   "cell_type": "markdown",
   "id": "db17a124",
   "metadata": {},
   "source": [
    "#### Initialize"
   ]
  },
  {
   "cell_type": "code",
   "execution_count": 2,
   "id": "9d50f526",
   "metadata": {},
   "outputs": [],
   "source": [
    "import numpy as np\n",
    "import matplotlib.pyplot as plt"
   ]
  },
  {
   "cell_type": "markdown",
   "id": "b6548df7",
   "metadata": {},
   "source": [
    "#### Data Example"
   ]
  },
  {
   "cell_type": "code",
   "execution_count": null,
   "id": "fb020f17",
   "metadata": {},
   "outputs": [],
   "source": [
    "X = np.linspace(0,4*np.pi,1000) # an array for x axies\n",
    "Y = np.sin(X) # an array for y axies"
   ]
  },
  {
   "cell_type": "markdown",
   "id": "b277a974",
   "metadata": {},
   "source": [
    "#### "
   ]
  },
  {
   "cell_type": "markdown",
   "id": "57b7c3f8",
   "metadata": {},
   "source": [
    "## Seaborn"
   ]
  },
  {
   "cell_type": "markdown",
   "id": "c307a50f",
   "metadata": {},
   "source": [
    "## Plotly"
   ]
  }
 ],
 "metadata": {
  "kernelspec": {
   "display_name": "Python 3 (ipykernel)",
   "language": "python",
   "name": "python3"
  },
  "language_info": {
   "codemirror_mode": {
    "name": "ipython",
    "version": 3
   },
   "file_extension": ".py",
   "mimetype": "text/x-python",
   "name": "python",
   "nbconvert_exporter": "python",
   "pygments_lexer": "ipython3",
   "version": "3.9.13"
  }
 },
 "nbformat": 4,
 "nbformat_minor": 5
}
