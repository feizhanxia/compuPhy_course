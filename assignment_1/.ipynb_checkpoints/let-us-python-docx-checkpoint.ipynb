{
 "cells": [
  {
   "cell_type": "markdown",
   "id": "82f95c00",
   "metadata": {},
   "source": [
    "# Let's python-docx\n",
    "> A brief introduction to python-docx."
   ]
  },
  {
   "cell_type": "markdown",
   "id": "cc40cd2a",
   "metadata": {},
   "source": [
    "#### Getting started with a new blank docx document."
   ]
  },
  {
   "cell_type": "code",
   "execution_count": 1,
   "id": "7cc8aa6e",
   "metadata": {},
   "outputs": [],
   "source": [
    "from docx import Document\n",
    "# before starting: create a new document\n",
    "document = Document() # a blank word docx document\n",
    "# or open an existing document\n",
    "# document = Document('existing-document-file.docx')"
   ]
  },
  {
   "cell_type": "markdown",
   "id": "776f16fb",
   "metadata": {},
   "source": [
    "#### Do some operation **on** the document, *to* , add something **in** the document."
   ]
  },
  {
   "cell_type": "code",
   "execution_count": 10,
   "id": "c3f3a865",
   "metadata": {},
   "outputs": [
    {
     "data": {
      "text/plain": [
       "<docx.text.paragraph.Paragraph at 0x10551c1f0>"
      ]
     },
     "execution_count": 10,
     "metadata": {},
     "output_type": "execute_result"
    }
   ],
   "source": [
    "# first: heading\n",
    "document.add_heading('The REAL meaning of the universe') # default level=1\n",
    "document.add_heading('Come With Me', level=2) # level between 1-9 for tittle/sub tittle, 0 for a new paragraph \n",
    "# basic: paragraph\n",
    "paragraph = document.add_paragraph('我爱你', 'Body Text 2')\n",
    "paragraph.add_run('HHH')\n",
    "prior_paragraph = paragraph.insert_paragraph_before('LXY, ')\n",
    "# separation: new page\n",
    "document.add_page_break()"
   ]
  },
  {
   "cell_type": "markdown",
   "id": "ac529d67",
   "metadata": {},
   "source": [
    "#### Adding a table."
   ]
  },
  {
   "cell_type": "code",
   "execution_count": 3,
   "id": "5ecd8095",
   "metadata": {},
   "outputs": [],
   "source": [
    "# useful for scientists: table\n",
    "## add a new table\n",
    "table = document.add_table(rows=2, cols=2) # just as paragraph table is another object\n",
    "## one cell a time in the table\n",
    "cell = table.cell(0,1)\n",
    "cell.text = 'cat, possibly dead'\n",
    "## one row(column) a time in the table\n",
    "row  = table.rows[1]\n",
    "row.cells[0].text = 'I miss u.'\n",
    "row.cells[1].text = 'I miss u 2.'\n",
    "table.columns[0].cells[0].text = 'cat, possibly alive'\n",
    "##  absolutely, u can add a row by:\n",
    "row = table.add_row()"
   ]
  },
  {
   "cell_type": "code",
   "execution_count": 4,
   "id": "cfb0d25a",
   "metadata": {},
   "outputs": [
    {
     "name": "stdout",
     "output_type": "stream",
     "text": [
      "cat, possibly alive\n",
      "cat, possibly dead\n",
      "I miss u.\n",
      "I miss u 2.\n",
      "\n",
      "\n"
     ]
    }
   ],
   "source": [
    "## get some info using rows&columns\n",
    "for row in table.rows: # row-by-row\n",
    "    for cell in row.cells: # cell by cell\n",
    "        print(cell.text)\n",
    "row_count = len(table.rows)\n",
    "column_count = len(table.columns)"
   ]
  },
  {
   "cell_type": "markdown",
   "id": "6fdfe1a7",
   "metadata": {},
   "source": [
    "#### An example for table from the documentation."
   ]
  },
  {
   "cell_type": "code",
   "execution_count": 5,
   "id": "ccb1c2ca",
   "metadata": {},
   "outputs": [
    {
     "name": "stderr",
     "output_type": "stream",
     "text": [
      "/Users/feizhanxia/opt/anaconda3/lib/python3.9/site-packages/docx/styles/styles.py:139: UserWarning: style lookup by style_id is deprecated. Use style name as key instead.\n",
      "  return self._get_style_id_from_style(self[style_name], style_type)\n"
     ]
    }
   ],
   "source": [
    "# another e.g. form the document\n",
    "# get table data -------------\n",
    "items = (\n",
    "    (7, '1024', 'Plush kittens'),\n",
    "    (3, '2042', 'Furbees'),\n",
    "    (1, '1288', 'French Poodle Collars, Deluxe'),\n",
    ")\n",
    "\n",
    "# add table ------------------\n",
    "table = document.add_table(1, 3)\n",
    "\n",
    "# populate header row -----\n",
    "heading_cells = table.rows[0].cells\n",
    "heading_cells[0].text = 'Qty'\n",
    "heading_cells[1].text = 'SKU'\n",
    "heading_cells[2].text = 'Description'\n",
    "\n",
    "# add a data row for each item\n",
    "for item in items:\n",
    "    cells = table.add_row().cells\n",
    "    cells[0].text = str(item[0])\n",
    "    cells[1].text = item[1]\n",
    "    cells[2].text = item[2]\n",
    "table.style = 'LightShading-Accent1'"
   ]
  },
  {
   "cell_type": "markdown",
   "id": "a492ad04",
   "metadata": {},
   "source": [
    "#### Adding a picture."
   ]
  },
  {
   "cell_type": "code",
   "execution_count": 6,
   "id": "928c9eae",
   "metadata": {},
   "outputs": [],
   "source": [
    "# document.add_picture('image-filename.png')\n",
    "# to edit image size:\n",
    "# from docx.shared import Inches\n",
    "# document.add_picture('image-filename.png', width=Inches(1.0))"
   ]
  },
  {
   "cell_type": "markdown",
   "id": "e05f12ff",
   "metadata": {},
   "source": [
    "#### Bold and italic."
   ]
  },
  {
   "cell_type": "code",
   "execution_count": 7,
   "id": "427b8e3d",
   "metadata": {},
   "outputs": [],
   "source": [
    "paragraph = document.add_paragraph()\n",
    "# .bold and .italic are property of run objects.\n",
    "#There are 2 ways to set their value, as follows.\n",
    "paragraph.add_run('We\\'ll be ')\n",
    "## 1. when adding a run\n",
    "paragraph.add_run('together').bold = True\n",
    "## 2. afterwards\n",
    "run = paragraph.add_run(' forever.')\n",
    "run.italic = True"
   ]
  },
  {
   "cell_type": "markdown",
   "id": "307b7f59",
   "metadata": {},
   "source": [
    "#### Paragraph style, character style, table style."
   ]
  },
  {
   "cell_type": "code",
   "execution_count": 8,
   "id": "39519c47",
   "metadata": {},
   "outputs": [],
   "source": [
    "# paragraph style\n",
    "## 1. when adding a run\n",
    "document.add_paragraph('Lorem ipsum dolor sit amet.', style='ListBullet')\n",
    "## 2. afterwards\n",
    "paragraph = document.add_paragraph('Lorem ipsum dolor sit amet.')\n",
    "paragraph.style = 'List Bullet'\n",
    "# character style\n",
    "## 1. when adding a run\n",
    "paragraph = document.add_paragraph('Normal text, ')\n",
    "paragraph.add_run('text with emphasis.', 'Emphasis')\n",
    "## 2. afterwards\n",
    "paragraph = document.add_paragraph('Normal text, ')\n",
    "run = paragraph.add_run('text with emphasis.')\n",
    "run.style = 'Emphasis'\n",
    "# table style\n",
    "## 1. when adding a table\n",
    "table = document.add_table(1, 3, 'LightShading-Accent1')\n",
    "## 2. afterwards\n",
    "table = document.add_table(1, 3)\n",
    "table.style = 'LightShading-Accent1'"
   ]
  },
  {
   "cell_type": "markdown",
   "id": "77ab0c66",
   "metadata": {},
   "source": [
    "See more about style and styles in default template at [Official Understanding Styles](https://python-docx.readthedocs.io/en/latest/user/styles-understanding.html#understanding-styles)."
   ]
  },
  {
   "cell_type": "markdown",
   "id": "d1e82997",
   "metadata": {},
   "source": [
    "#### Save the docx file to get what u want."
   ]
  },
  {
   "cell_type": "code",
   "execution_count": 9,
   "id": "97b7482a",
   "metadata": {},
   "outputs": [],
   "source": [
    "# finally: saving\n",
    "document.save('test.docx')\n",
    "# or 'new-file-name.docx'"
   ]
  },
  {
   "cell_type": "markdown",
   "id": "7aa0ba1d",
   "metadata": {},
   "source": [
    "#### End\n",
    "There are richer uses of python-docx, a wonderful tool. See more at [Official Doc](https://python-docx.readthedocs.io/en/latest/)"
   ]
  },
  {
   "cell_type": "markdown",
   "id": "154f9d3b",
   "metadata": {},
   "source": [
    "Edited by [*@Larenz*](https://github.com/feizhanxia) (Li, Yuanlong [2050570@tongji.edu.cn](2050570@tongji.edu.cn))\n",
    "\n",
    "**reference:**\n",
    "\n",
    "[*python-docx 0.8.11 documentation*](https://python-docx.readthedocs.io/en/latest/)"
   ]
  }
 ],
 "metadata": {
  "kernelspec": {
   "display_name": "Python 3 (ipykernel)",
   "language": "python",
   "name": "python3"
  },
  "language_info": {
   "codemirror_mode": {
    "name": "ipython",
    "version": 3
   },
   "file_extension": ".py",
   "mimetype": "text/x-python",
   "name": "python",
   "nbconvert_exporter": "python",
   "pygments_lexer": "ipython3",
   "version": "3.9.13"
  }
 },
 "nbformat": 4,
 "nbformat_minor": 5
}
